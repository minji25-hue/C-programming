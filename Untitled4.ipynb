{
  "nbformat": 4,
  "nbformat_minor": 0,
  "metadata": {
    "colab": {
      "provenance": [],
      "authorship_tag": "ABX9TyNnh0qMKz/BUOjlx7PY8fAH",
      "include_colab_link": true
    },
    "kernelspec": {
      "name": "python3",
      "display_name": "Python 3"
    },
    "language_info": {
      "name": "python"
    }
  },
  "cells": [
    {
      "cell_type": "markdown",
      "metadata": {
        "id": "view-in-github",
        "colab_type": "text"
      },
      "source": [
        "<a href=\"https://colab.research.google.com/github/minji25-hue/C-programming/blob/20250410/Untitled4.ipynb\" target=\"_parent\"><img src=\"https://colab.research.google.com/assets/colab-badge.svg\" alt=\"Open In Colab\"/></a>"
      ]
    },
    {
      "cell_type": "code",
      "execution_count": 1,
      "metadata": {
        "colab": {
          "base_uri": "https://localhost:8080/"
        },
        "id": "SA-pC0PD-cE9",
        "outputId": "1b7b9e44-8731-4fd6-da2c-322e4cbe478f"
      },
      "outputs": [
        {
          "output_type": "stream",
          "name": "stdout",
          "text": [
            "발사 속도 (m/s)를 입력하세요: 30\n",
            "발사 각도 (도)를 입력하세요: 30\n",
            "\n",
            "1) 초기 속도 성분: Vx0 = 25.98 m/s, Vy0 = 15.00 m/s\n",
            "2) 최고점의 높이: 11.48 m\n",
            "3) 최고점 도달 시간: 1.53 s\n",
            "4) 수평으로 이동한 최대 거리: 79.53 m\n",
            "5) 지면에 닿을 때 속도:\n",
            "   Vx = 25.98 m/s, Vy = -15.00 m/s\n",
            "   속도 벡터 크기 V = 30.00 m/s\n"
          ]
        }
      ],
      "source": [
        "import math\n",
        "\n",
        "\n",
        "G = 9.8\n",
        "\n",
        "def deg_to_rad(angle_deg):\n",
        "    return angle_deg * math.pi / 180\n",
        "\n",
        "def rad_to_deg(angle_rad):\n",
        "    return angle_rad * 180 / math.pi\n",
        "\n",
        "\n",
        "speed = float(input(\"발사 속도 (m/s)를 입력하세요: \"))\n",
        "angle_deg = float(input(\"발사 각도 (도)를 입력하세요: \"))\n",
        "\n",
        "angle_rad = deg_to_rad(angle_deg)\n",
        "\n",
        "Vx0 = speed * math.cos(angle_rad)\n",
        "Vy0 = speed * math.sin(angle_rad)\n",
        "print(f\"\\n1) 초기 속도 성분: Vx0 = {Vx0:.2f} m/s, Vy0 = {Vy0:.2f} m/s\")\n",
        "\n",
        "h_max = (Vy0 ** 2) / (2 * G)\n",
        "print(f\"2) 최고점의 높이: {h_max:.2f} m\")\n",
        "\n",
        "t_peak = Vy0 / G\n",
        "print(f\"3) 최고점 도달 시간: {t_peak:.2f} s\")\n",
        "\n",
        "total_time = 2 * t_peak\n",
        "range_ = Vx0 * total_time\n",
        "print(f\"4) 수평으로 이동한 최대 거리: {range_:.2f} m\")\n",
        "\n",
        "Vx_final = Vx0\n",
        "Vy_final = -Vy0\n",
        "V_final = math.sqrt(Vx_final ** 2 + Vy_final ** 2)\n",
        "\n",
        "print(\"5) 지면에 닿을 때 속도:\")\n",
        "print(f\"   Vx = {Vx_final:.2f} m/s, Vy = {Vy_final:.2f} m/s\")\n",
        "print(f\"   속도 벡터 크기 V = {V_final:.2f} m/s\")"
      ]
    }
  ]
}