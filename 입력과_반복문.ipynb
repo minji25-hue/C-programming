{
  "nbformat": 4,
  "nbformat_minor": 0,
  "metadata": {
    "colab": {
      "provenance": [],
      "authorship_tag": "ABX9TyPzryJHX+hSpHp4wcnuwgqA",
      "include_colab_link": true
    },
    "kernelspec": {
      "name": "python3",
      "display_name": "Python 3"
    },
    "language_info": {
      "name": "python"
    }
  },
  "cells": [
    {
      "cell_type": "markdown",
      "metadata": {
        "id": "view-in-github",
        "colab_type": "text"
      },
      "source": [
        "<a href=\"https://colab.research.google.com/github/minji25-hue/C-programming/blob/20250409/%EC%9E%85%EB%A0%A5%EA%B3%BC_%EB%B0%98%EB%B3%B5%EB%AC%B8.ipynb\" target=\"_parent\"><img src=\"https://colab.research.google.com/assets/colab-badge.svg\" alt=\"Open In Colab\"/></a>"
      ]
    },
    {
      "cell_type": "code",
      "execution_count": null,
      "metadata": {
        "colab": {
          "base_uri": "https://localhost:8080/"
        },
        "id": "6CVhYo-ArG0T",
        "outputId": "c6b3b6f6-beb5-4508-a106-7784465437dd"
      },
      "outputs": [
        {
          "output_type": "stream",
          "name": "stdout",
          "text": [
            "How old are you : 20\n",
            "20 years old\n"
          ]
        }
      ],
      "source": [
        "str = input(\"How old are you : \")\n",
        "print(str,'years old', sep=' ')"
      ]
    },
    {
      "cell_type": "code",
      "source": [
        "x = int(input('number : '))\n",
        "print(x)"
      ],
      "metadata": {
        "colab": {
          "base_uri": "https://localhost:8080/"
        },
        "id": "vLntdR6muwvj",
        "outputId": "6a300395-c42f-4907-cca6-9d050fa8a661"
      },
      "execution_count": null,
      "outputs": [
        {
          "output_type": "stream",
          "name": "stdout",
          "text": [
            "number : 45\n",
            "45\n"
          ]
        }
      ]
    },
    {
      "cell_type": "code",
      "source": [
        "x = float(input('number : '))\n",
        "print(x)"
      ],
      "metadata": {
        "colab": {
          "base_uri": "https://localhost:8080/"
        },
        "id": "Y3__PDK8uzbq",
        "outputId": "f5308424-a016-4a36-e926-e6cb56ddd140"
      },
      "execution_count": null,
      "outputs": [
        {
          "output_type": "stream",
          "name": "stdout",
          "text": [
            "number : 34\n",
            "34.0\n"
          ]
        }
      ]
    },
    {
      "cell_type": "code",
      "source": [
        "year = input(\"This year : \")\n",
        "year = eval(year)\n",
        "year = year + 1\n",
        "print(\"Next year : \", year)"
      ],
      "metadata": {
        "colab": {
          "base_uri": "https://localhost:8080/"
        },
        "id": "otz4K66bu59C",
        "outputId": "10cd12b9-4b3a-4d7e-a2a8-a3c61b5b3165"
      },
      "execution_count": null,
      "outputs": [
        {
          "output_type": "stream",
          "name": "stdout",
          "text": [
            "This year : 4533\n",
            "Next year :  4534\n"
          ]
        }
      ]
    },
    {
      "cell_type": "code",
      "source": [
        "i = 0\n",
        "result = 0\n",
        "while i < 5 :\n",
        "  print(f'{i}번째 ', end=\" \")\n",
        "  a = input(\"성적 입력 : \")\n",
        "  result += int(a)\n",
        "  i += 1\n",
        "\n",
        "  print(f'합 : {result}')\n",
        "print(f'평균 : {result / 5}')\n"
      ],
      "metadata": {
        "colab": {
          "base_uri": "https://localhost:8080/"
        },
        "id": "Vw4uZxS-u8Ip",
        "outputId": "2e39fb8a-9099-4552-fe6d-0d85eafb2674"
      },
      "execution_count": null,
      "outputs": [
        {
          "output_type": "stream",
          "name": "stdout",
          "text": [
            "0번째  성적 입력 : 4\n",
            "합 : 4\n",
            "1번째  성적 입력 : 2\n",
            "합 : 6\n",
            "2번째  성적 입력 : 4\n",
            "합 : 10\n",
            "3번째  성적 입력 : 4\n",
            "합 : 14\n",
            "4번째  성적 입력 : 5\n",
            "합 : 19\n",
            "평균 : 3.8\n"
          ]
        }
      ]
    },
    {
      "cell_type": "code",
      "source": [
        "test_list = ['one', 'two', 'three']\n",
        "for i in test_list :\n",
        "  print(i)"
      ],
      "metadata": {
        "colab": {
          "base_uri": "https://localhost:8080/"
        },
        "id": "4aeumUInvJPp",
        "outputId": "c46cfc9e-6115-4771-890a-ab8e633843ef"
      },
      "execution_count": null,
      "outputs": [
        {
          "output_type": "stream",
          "name": "stdout",
          "text": [
            "one\n",
            "two\n",
            "three\n"
          ]
        }
      ]
    },
    {
      "cell_type": "code",
      "source": [
        "for i in range(1, 10) :\n",
        "  print(i)"
      ],
      "metadata": {
        "colab": {
          "base_uri": "https://localhost:8080/"
        },
        "id": "ynMBb0XnvLyo",
        "outputId": "5267f405-a9f8-495f-9eb0-157aa193853e"
      },
      "execution_count": null,
      "outputs": [
        {
          "output_type": "stream",
          "name": "stdout",
          "text": [
            "1\n",
            "2\n",
            "3\n",
            "4\n",
            "5\n",
            "6\n",
            "7\n",
            "8\n",
            "9\n"
          ]
        }
      ]
    },
    {
      "cell_type": "code",
      "source": [
        "result = 0\n",
        "for a in range(1, 101) :\n",
        "  result = result + a\n",
        "  print(f\"(a) {result}\")\n",
        "\n",
        "print(result)"
      ],
      "metadata": {
        "colab": {
          "base_uri": "https://localhost:8080/"
        },
        "id": "DgEU5w1svRoA",
        "outputId": "5b3f5a1b-f39c-46b0-8847-ea20f68fddc6"
      },
      "execution_count": null,
      "outputs": [
        {
          "output_type": "stream",
          "name": "stdout",
          "text": [
            "(a) 1\n",
            "(a) 3\n",
            "(a) 6\n",
            "(a) 10\n",
            "(a) 15\n",
            "(a) 21\n",
            "(a) 28\n",
            "(a) 36\n",
            "(a) 45\n",
            "(a) 55\n",
            "(a) 66\n",
            "(a) 78\n",
            "(a) 91\n",
            "(a) 105\n",
            "(a) 120\n",
            "(a) 136\n",
            "(a) 153\n",
            "(a) 171\n",
            "(a) 190\n",
            "(a) 210\n",
            "(a) 231\n",
            "(a) 253\n",
            "(a) 276\n",
            "(a) 300\n",
            "(a) 325\n",
            "(a) 351\n",
            "(a) 378\n",
            "(a) 406\n",
            "(a) 435\n",
            "(a) 465\n",
            "(a) 496\n",
            "(a) 528\n",
            "(a) 561\n",
            "(a) 595\n",
            "(a) 630\n",
            "(a) 666\n",
            "(a) 703\n",
            "(a) 741\n",
            "(a) 780\n",
            "(a) 820\n",
            "(a) 861\n",
            "(a) 903\n",
            "(a) 946\n",
            "(a) 990\n",
            "(a) 1035\n",
            "(a) 1081\n",
            "(a) 1128\n",
            "(a) 1176\n",
            "(a) 1225\n",
            "(a) 1275\n",
            "(a) 1326\n",
            "(a) 1378\n",
            "(a) 1431\n",
            "(a) 1485\n",
            "(a) 1540\n",
            "(a) 1596\n",
            "(a) 1653\n",
            "(a) 1711\n",
            "(a) 1770\n",
            "(a) 1830\n",
            "(a) 1891\n",
            "(a) 1953\n",
            "(a) 2016\n",
            "(a) 2080\n",
            "(a) 2145\n",
            "(a) 2211\n",
            "(a) 2278\n",
            "(a) 2346\n",
            "(a) 2415\n",
            "(a) 2485\n",
            "(a) 2556\n",
            "(a) 2628\n",
            "(a) 2701\n",
            "(a) 2775\n",
            "(a) 2850\n",
            "(a) 2926\n",
            "(a) 3003\n",
            "(a) 3081\n",
            "(a) 3160\n",
            "(a) 3240\n",
            "(a) 3321\n",
            "(a) 3403\n",
            "(a) 3486\n",
            "(a) 3570\n",
            "(a) 3655\n",
            "(a) 3741\n",
            "(a) 3828\n",
            "(a) 3916\n",
            "(a) 4005\n",
            "(a) 4095\n",
            "(a) 4186\n",
            "(a) 4278\n",
            "(a) 4371\n",
            "(a) 4465\n",
            "(a) 4560\n",
            "(a) 4656\n",
            "(a) 4753\n",
            "(a) 4851\n",
            "(a) 4950\n",
            "(a) 5050\n",
            "5050\n"
          ]
        }
      ]
    },
    {
      "cell_type": "code",
      "source": [
        "result = 0\n",
        "for a in range(1,101):\n",
        "  result = result + a\n",
        "  print(f'{a} : sum = {result}')\n",
        "  if result > 100:\n",
        "    break\n",
        "print(result)"
      ],
      "metadata": {
        "colab": {
          "base_uri": "https://localhost:8080/"
        },
        "id": "u5Del8PdvZlP",
        "outputId": "13600230-2b71-433c-ce85-422eb5aac91b"
      },
      "execution_count": null,
      "outputs": [
        {
          "output_type": "stream",
          "name": "stdout",
          "text": [
            "1 : sum = 1\n",
            "2 : sum = 3\n",
            "3 : sum = 6\n",
            "4 : sum = 10\n",
            "5 : sum = 15\n",
            "6 : sum = 21\n",
            "7 : sum = 28\n",
            "8 : sum = 36\n",
            "9 : sum = 45\n",
            "10 : sum = 55\n",
            "11 : sum = 66\n",
            "12 : sum = 78\n",
            "13 : sum = 91\n",
            "14 : sum = 105\n",
            "105\n"
          ]
        }
      ]
    },
    {
      "cell_type": "code",
      "source": [
        "index = 0\n",
        "s = \"BlockDMask\"\n",
        "for a in s:\n",
        "  print(a, end=' ')\n",
        "  if a == 'k':\n",
        "    break\n",
        "\n",
        "  index = index + 1\n",
        "\n",
        "\n",
        "print(index)"
      ],
      "metadata": {
        "colab": {
          "base_uri": "https://localhost:8080/"
        },
        "id": "0ZfC6X2IvdQD",
        "outputId": "e51e8fa5-fbc0-4408-81c5-b1ba26485a0b"
      },
      "execution_count": null,
      "outputs": [
        {
          "output_type": "stream",
          "name": "stdout",
          "text": [
            "B l o c k 4\n"
          ]
        }
      ]
    },
    {
      "cell_type": "code",
      "source": [
        "student = [180, 170, 164, 199, 182, 172, 177]\n",
        "for a in student:\n",
        "  if a <= 170:\n",
        "    print(a)"
      ],
      "metadata": {
        "colab": {
          "base_uri": "https://localhost:8080/"
        },
        "id": "1hj6a15vvfCS",
        "outputId": "02364a1f-74e3-42fc-a021-436c253ca0af"
      },
      "execution_count": null,
      "outputs": [
        {
          "output_type": "stream",
          "name": "stdout",
          "text": [
            "170\n",
            "164\n"
          ]
        }
      ]
    },
    {
      "cell_type": "code",
      "source": [
        "result = 0\n",
        "for a in range(1,101):\n",
        "  if a % 2 == 1:\n",
        "    result = result + a\n",
        "\n",
        "print(result)"
      ],
      "metadata": {
        "colab": {
          "base_uri": "https://localhost:8080/"
        },
        "id": "gz5-msNbvki6",
        "outputId": "eb04d90e-b929-4f32-eab3-e16b157d8a8f"
      },
      "execution_count": null,
      "outputs": [
        {
          "output_type": "stream",
          "name": "stdout",
          "text": [
            "2500\n"
          ]
        }
      ]
    },
    {
      "cell_type": "code",
      "source": [
        "result = 0\n",
        "for a in range(1,101):\n",
        "  if a % 2 == 0:\n",
        "\n",
        "    continue\n",
        "  result = result + a\n",
        "\n",
        "print(result)"
      ],
      "metadata": {
        "colab": {
          "base_uri": "https://localhost:8080/"
        },
        "id": "QhKMFnyVvmG4",
        "outputId": "45a2718c-fc0d-4d48-8a62-3e6733c9eb0d"
      },
      "execution_count": null,
      "outputs": [
        {
          "output_type": "stream",
          "name": "stdout",
          "text": [
            "2500\n"
          ]
        }
      ]
    },
    {
      "cell_type": "code",
      "source": [
        "l = ['Alice', 'Bob', 'Charlie']\n",
        "\n",
        "for name in l:\n",
        "  if name == 'Bob':\n",
        "    print(\"Break!\")\n",
        "    break\n",
        "  print(name)\n",
        "else:\n",
        "  print(\"!!Finish\")"
      ],
      "metadata": {
        "colab": {
          "base_uri": "https://localhost:8080/"
        },
        "id": "PMJZ0UpsvnD_",
        "outputId": "35a287eb-5564-4d39-cc54-e388f7f3e36d"
      },
      "execution_count": null,
      "outputs": [
        {
          "output_type": "stream",
          "name": "stdout",
          "text": [
            "Alice\n",
            "Break!\n"
          ]
        }
      ]
    },
    {
      "cell_type": "code",
      "source": [
        "sr = ['father', 'mother', 'brother']\n",
        "cnt = 0\n",
        "for s in sr:\n",
        "  print(s)\n",
        "  for c in s:\n",
        "    print(c, end= ' ')\n",
        "    if c == 'r':\n",
        "      print(' ')\n",
        "      cnt += 1\n",
        "print(cnt)"
      ],
      "metadata": {
        "colab": {
          "base_uri": "https://localhost:8080/"
        },
        "id": "oqDbjKY1vqM6",
        "outputId": "8fb619c9-a93c-406b-b0ab-0600503ba3b4"
      },
      "execution_count": null,
      "outputs": [
        {
          "output_type": "stream",
          "name": "stdout",
          "text": [
            "father\n",
            "f a t h e r  \n",
            "mother\n",
            "m o t h e r  \n",
            "brother\n",
            "b r  \n",
            "o t h e r  \n",
            "4\n"
          ]
        }
      ]
    },
    {
      "cell_type": "code",
      "source": [
        "a = []\n",
        "\n",
        "for i in range(10):\n",
        "  a.append(i)\n",
        "\n",
        "print(a)"
      ],
      "metadata": {
        "colab": {
          "base_uri": "https://localhost:8080/"
        },
        "id": "Cly8c8c-vrkN",
        "outputId": "daad8a75-cfcb-41d4-a4f1-42960d27be28"
      },
      "execution_count": null,
      "outputs": [
        {
          "output_type": "stream",
          "name": "stdout",
          "text": [
            "[0, 1, 2, 3, 4, 5, 6, 7, 8, 9]\n"
          ]
        }
      ]
    },
    {
      "cell_type": "code",
      "source": [
        "a =[]\n",
        "\n",
        "for i in range(3):\n",
        "  line = []\n",
        "  for j in range(2):\n",
        "    line.append(j+i)\n",
        "  a.append(line)\n",
        "\n",
        "print(a)"
      ],
      "metadata": {
        "colab": {
          "base_uri": "https://localhost:8080/"
        },
        "id": "4ZbRDkflvtyE",
        "outputId": "ac4f2fd9-89fd-46b2-e71d-1f8719b81d64"
      },
      "execution_count": null,
      "outputs": [
        {
          "output_type": "stream",
          "name": "stdout",
          "text": [
            "[[0, 1], [1, 2], [2, 3]]\n"
          ]
        }
      ]
    },
    {
      "cell_type": "code",
      "source": [
        "l = ['Alice', 'Bob', 'Charlie']\n",
        "\n",
        "for name in l:\n",
        "  print(name)\n",
        "\n",
        "for i, name in enumerate(l, 42):\n",
        "  print(i, name)"
      ],
      "metadata": {
        "colab": {
          "base_uri": "https://localhost:8080/"
        },
        "id": "Xr4DkdJvvwKx",
        "outputId": "d50a9a09-5dc1-49a4-be86-f47a643b6438"
      },
      "execution_count": null,
      "outputs": [
        {
          "output_type": "stream",
          "name": "stdout",
          "text": [
            "Alice\n",
            "Bob\n",
            "Charlie\n",
            "42 Alice\n",
            "43 Bob\n",
            "44 Charlie\n"
          ]
        }
      ]
    },
    {
      "cell_type": "markdown",
      "source": [],
      "metadata": {
        "id": "dDjza-lDv6PH"
      }
    }
  ]
}